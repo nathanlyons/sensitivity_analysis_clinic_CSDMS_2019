{
 "cells": [
  {
   "cell_type": "markdown",
   "metadata": {},
   "source": [
    "# Introduction to SALib: model example\n",
    "\n",
    "Interactive examples for the clinic, Model Sensitivity Analysis with SALib at [CSDMS Annual Meeting 2019](https://csdms.colorado.edu/wiki/Form:Annualmeeting2019).\n",
    "\n",
    "**Goal of this notebook:** Use Landlab to demonstrate the Sobol method implemented in SALib.\n",
    "\n",
    "Clinic resources are stored in [this repository](https://github.com/nathanlyons/sensitivity_analysis_clinic_CSDMS_2019).\n",
    "\n",
    "### Research question\n",
    "Which earth surface process parameters most influence divide migration?\n",
    "\n",
    "### Approach\n",
    "* Run a model where divide migration is driven by base level fall.\n",
    "* The landscape will evolve by stream power incision and linear diffusion:  \n",
    "\\begin{equation*}\n",
    "\\frac{\\delta z}{\\delta t} = U - KA^mS^n+D\\Delta z\n",
    "\\end{equation*}\n",
    "where $z$ is elevation [L], $t$ is time [T], $U$ is uplift [LT$^{-1}$], $K$ is often referred to as the  erodibility coefficient [T$^{-1}$L$^{1-2m}$], $A$ is drainage area [L$^{2}$], $S$ is channel slope [L/L], $m$ and $n$ are exponents, and $D$ is the diffusion coefficient [L$^2$T$^{-1}$]. \n",
    "\n",
    "* In model trials, vary process parameters within published intervals. Also vary the magnitude of base level fall.\n",
    "\n",
    "\n",
    "| Factor           | Units           |Min             | Max             | Reference      |\n",
    "|:---------------- | -----------------:|---------------:| ---------------:|:-------------- |\n",
    "| uplift rate, *U* |m yr<sup>-1</sup>| 10<sup>-5</sup> | 10<sup>-3</sup> | Burbank et al. (1996) |\n",
    "| erodibility, *K* |yr<sup>-1</sup>  | 10<sup>-7</sup> | 10<sup>-5</sup> | Stock and Montgomery (1999) |\n",
    "| diffusivity, *D* |m<sup>2</sup> yr<sup>-1</sup>| 10<sup>-3</sup> | 10<sup>-1</sup> | Martin (2000) |\n",
    "| base level fall  |m | 10<sup>-1</sup> | 10<sup>2</sup>| |\n",
    "\n",
    "### Stages of the base level fall model\n",
    "\n",
    "1. Evolve the landscape to steady state.\n",
    "2. Drop base level.\n",
    "3. Return to steady state.\n",
    "\n",
    "### Model responses to analyze\n",
    "\n",
    "* **Topographic relief at initial steady state** (at end of stage 1)\n",
    "* **Time back to steady state** (time from onset of stage 2 to end of 3)\n",
    "* **Divide migration distance** (from end of stage 1 to end of 3)"
   ]
  },
  {
   "cell_type": "markdown",
   "metadata": {},
   "source": [
    "## 0. Update `numpy`. \n",
    "\n",
    "This is **necessary only if you are using Hydroshare during the clinic**. \n",
    "\n",
    "Run this cell only once - it takes a while."
   ]
  },
  {
   "cell_type": "code",
   "execution_count": null,
   "metadata": {},
   "outputs": [],
   "source": [
    "! conda update -y numpy\n",
    "from IPython.display import display_html\n",
    "display_html(\"<script>Jupyter.notebook.kernel.restart()</script>\", raw=True)"
   ]
  },
  {
   "cell_type": "markdown",
   "metadata": {},
   "source": [
    "## 1. Prepare the environment"
   ]
  },
  {
   "cell_type": "code",
   "execution_count": 1,
   "metadata": {},
   "outputs": [],
   "source": [
    "from copy import deepcopy\n",
    "from os import makedirs\n",
    "from os.path import exists, join\n",
    "from shutil import rmtree\n",
    "\n",
    "from matplotlib.colors import LogNorm\n",
    "from landlab import RasterModelGrid\n",
    "from landlab.components import (FastscapeEroder, FlowAccumulator,\n",
    "                                LinearDiffuser)\n",
    "from landlab.io import read_esri_ascii, write_esri_ascii\n",
    "from landlab.plot import channel_profile as prf, imshow_grid\n",
    "from matplotlib import pyplot as plt\n",
    "import numpy as np\n",
    "from pandas import DataFrame, read_csv, set_option\n",
    "from pprint import pprint\n",
    "from SALib.analyze import sobol\n",
    "from scipy.optimize import curve_fit\n",
    "\n",
    "import experiment_funcs as ef\n",
    "import model_funcs as mf\n",
    "import plot_funcs as pf"
   ]
  },
  {
   "cell_type": "code",
   "execution_count": null,
   "metadata": {},
   "outputs": [],
   "source": [
    "%matplotlib notebook"
   ]
  },
  {
   "cell_type": "code",
   "execution_count": null,
   "metadata": {},
   "outputs": [],
   "source": [
    "%%javascript\n",
    "IPython.OutputArea.prototype._should_scroll = function(lines) {\n",
    "    return false;\n",
    "}"
   ]
  },
  {
   "cell_type": "markdown",
   "metadata": {},
   "source": [
    "## 1. Load the factor levels\n",
    "\n",
    "A file with the model input values was previously created. (The values in table are exponents to a base 10.)"
   ]
  },
  {
   "cell_type": "code",
   "execution_count": null,
   "metadata": {},
   "outputs": [],
   "source": [
    "levels_df = read_csv('trial_factor_levels.txt', index_col=0)\n",
    "set_option('display.width', 1000, 'display.max_rows', 10)\n",
    "print(levels_df)"
   ]
  },
  {
   "cell_type": "markdown",
   "metadata": {},
   "source": [
    "## 2. Run a model trial\n",
    "\n",
    "### Load the values of the factors for a trial"
   ]
  },
  {
   "cell_type": "code",
   "execution_count": null,
   "metadata": {
    "scrolled": false
   },
   "outputs": [],
   "source": [
    "trial_id = 588\n",
    "\n",
    "# Get trial parameters.\n",
    "trial_index = np.where(levels_df.index == trial_id)[0][0]\n",
    "trial_factors_df = levels_df.iloc[trial_index]\n",
    "trial_factors = mf.calculate_factor_values(trial_factors_df.to_dict())\n",
    "\n",
    "# Print factors.\n",
    "pprint(trial_factors)"
   ]
  },
  {
   "cell_type": "markdown",
   "metadata": {},
   "source": [
    "### Create a folder to store trial output"
   ]
  },
  {
   "cell_type": "code",
   "execution_count": null,
   "metadata": {},
   "outputs": [],
   "source": [
    "trial_path = 'trial.{}'.format(trial_id)\n",
    "\n",
    "# Delete directory if it exists.\n",
    "if exists(trial_path):\n",
    "    rmtree(trial_path)\n",
    "\n",
    "makedirs(trial_path)"
   ]
  },
  {
   "cell_type": "markdown",
   "metadata": {},
   "source": [
    "### Create a model grid"
   ]
  },
  {
   "cell_type": "code",
   "execution_count": null,
   "metadata": {},
   "outputs": [],
   "source": [
    "nrows = 200\n",
    "ncols = 100\n",
    "dx = 100\n",
    "mg = RasterModelGrid(nrows, ncols, dx)\n",
    "\n",
    "# Create initial topography with random elevation values.\n",
    "z = mg.add_zeros('node', 'topographic__elevation')\n",
    "np.random.seed(1)\n",
    "z += np.random.rand(z.size)\n",
    "\n",
    "# Set boundary conditions.\n",
    "mg.set_closed_boundaries_at_grid_edges(right_is_closed=True,\n",
    "                                       top_is_closed=False,\n",
    "                                       left_is_closed=True,\n",
    "                                       bottom_is_closed=False)\n",
    "\n",
    "# Plot grid elevation.\n",
    "imshow_grid(mg, 'topographic__elevation', cmap='gray',\n",
    "            colorbar_label='elevation (m)')"
   ]
  },
  {
   "cell_type": "markdown",
   "metadata": {},
   "source": [
    "### Run the model"
   ]
  },
  {
   "cell_type": "code",
   "execution_count": null,
   "metadata": {},
   "outputs": [],
   "source": [
    "# Set time step duration.\n",
    "dt = 1000\n",
    "\n",
    "f = trial_factors\n",
    "\n",
    "# Instantiate model components.\n",
    "fa = FlowAccumulator(mg, flow_director='D8')\n",
    "sp = FastscapeEroder(mg, K_sp=f['K'], m_sp=0.5, n_sp=1)\n",
    "ld = LinearDiffuser(mg, linear_diffusivity=f['D'], deposit=False)\n",
    "\n",
    "# Instantiate model components.\n",
    "fa = FlowAccumulator(mg, flow_director='D8')\n",
    "sp = FastscapeEroder(mg, K_sp=f['K'], m_sp=0.5, n_sp=1)\n",
    "ld = LinearDiffuser(mg, linear_diffusivity=f['D'], deposit=False)\n",
    "\n",
    "# Set variables to evaluate presence of steady state.\n",
    "initial_conditions_set = False\n",
    "at_steady_state = False\n",
    "relief_record = []\n",
    "recent_mean = []\n",
    "recent_std = []\n",
    "step = 0\n",
    "\n",
    "# Set number of time steps, `steps_ss` that is the time window to evaluate\n",
    "# steady state.\n",
    "steps_ss = 1000\n",
    "\n",
    "# Create a dictionary to store responses.\n",
    "response = {}\n",
    "\n",
    "# Run model until steady state is reached.\n",
    "\n",
    "uplift_per_step = f['U'] * dt\n",
    "core_mask = mg.node_is_core()\n",
    "\n",
    "print('Running model until elevation reaches steady state.')\n",
    "\n",
    "while not at_steady_state:\n",
    "    # Step processes.\n",
    "    fa.run_one_step()\n",
    "    sp.run_one_step(dt)\n",
    "    ld.run_one_step(dt)\n",
    "    \n",
    "    # Uplift topography.\n",
    "    z[core_mask] += uplift_per_step\n",
    "\n",
    "    # Run until mean and std change of z is < 1% over past 1000 steps.\n",
    "    at_steady_state = mf.check_steady_state(step * dt, z, step,\n",
    "                                            steps_ss, relief_record,\n",
    "                                            recent_mean, recent_std)\n",
    "\n",
    "    # Advance model stage when steady state is reached.\n",
    "    if at_steady_state and not initial_conditions_set:\n",
    "        # Begin stage 2.\n",
    "        initial_conditions_set = True\n",
    "        time_to_initial_steady_state = step * dt\n",
    "\n",
    "        # Save elevation of the initial conditions.\n",
    "        fn = join(trial_path, 'initial_elevation.asc')\n",
    "        write_esri_ascii(fn, mg, ['topographic__elevation'], clobber=True)\n",
    "\n",
    "        # Retain steady state relief, `relief_ss`.\n",
    "        z_core = z[mg.core_nodes]\n",
    "        relief_ss = z_core.max() - z_core.min()\n",
    "        response['relief_at_steady_state'] = relief_ss\n",
    "\n",
    "        # Find steady state divide position.\n",
    "        divide_y_coord_initial = mf.get_divide_position(mg)\n",
    "\n",
    "        # Perturb elevation.\n",
    "        base_level_nodes = mg.y_of_node == 0\n",
    "        z[base_level_nodes] -= f['base_level_fall']\n",
    "        at_steady_state = False\n",
    "\n",
    "    elif at_steady_state and initial_conditions_set:\n",
    "        # Reached stage 3.\n",
    "        print('Time back to steady state:', step * dt)\n",
    "        response['time_back_to_steady_state'] = step * dt\n",
    "\n",
    "        # Get divide migration distance.\n",
    "        divide_y_coord_final = mf.get_divide_position(mg)\n",
    "        d = divide_y_coord_final - divide_y_coord_initial\n",
    "        response['divide_migration_distance'] = d\n",
    "\n",
    "        # Save final elevation.\n",
    "        fn = join(trial_path, 'final_elevation.asc')\n",
    "        write_esri_ascii(fn, mg, ['topographic__elevation'], clobber=True)\n",
    "\n",
    "    # Advance step counter.\n",
    "    step += 1\n",
    "\n",
    "# Write response to file.\n",
    "path = join(trial_path, 'response.csv')\n",
    "ef.write_data(response, path)"
   ]
  },
  {
   "cell_type": "markdown",
   "metadata": {},
   "source": [
    "### Compare initial and final grids"
   ]
  },
  {
   "cell_type": "code",
   "execution_count": null,
   "metadata": {
    "scrolled": true
   },
   "outputs": [],
   "source": [
    "# Calculate final relief.\n",
    "z_core = z[mg.core_nodes]\n",
    "relief_final = z_core.max() - z_core.min()\n",
    "\n",
    "# Create summary DataFrame.\n",
    "titles = ['initial steady state', 'final steady state']\n",
    "DataFrame({'grid': titles,\n",
    "           'time to steady state (yr)': [time_to_initial_steady_state, response['time_back_to_steady_state']],\n",
    "           'relief (m)': [relief_ss, relief_final],\n",
    "           'divide y-coordinate (m)': [divide_y_coord_initial, divide_y_coord_final]})"
   ]
  },
  {
   "cell_type": "markdown",
   "metadata": {},
   "source": [
    "### Plot steady state grids and elevation profiles"
   ]
  },
  {
   "cell_type": "code",
   "execution_count": null,
   "metadata": {},
   "outputs": [],
   "source": [
    "fig1, axes1 = plt.subplots(1, 2, figsize=(7, 4))\n",
    "fig2, axes2 = plt.subplots(1, 1)\n",
    "\n",
    "file_names = ['initial_elevation.asc', 'final_elevation.asc']\n",
    "\n",
    "for i, fn in enumerate(file_names):\n",
    "    # Plot grid.\n",
    "    path = join(trial_path, fn)\n",
    "    mgi, zi = read_esri_ascii(path, name='topographic__elevation')\n",
    "    plt.sca(axes1[i])\n",
    "    imshow_grid(mgi, 'topographic__elevation', cmap='gray',\n",
    "                colorbar_label='elevation (m)')\n",
    "    axes1[i].set_title(titles[i])\n",
    "    \n",
    "    # Plot main divide on grid.\n",
    "    zi = mgi.at_node['topographic__elevation'].reshape(mgi.shape)\n",
    "    z_row_mean = zi.mean(axis=1)\n",
    "    divide_y_coord = z_row_mean.argmax() * mgi.dy\n",
    "    axes1[i].plot([mgi.node_x.min(), mgi.node_x.max()],\n",
    "                  [divide_y_coord, divide_y_coord], '--', color='r')\n",
    "    \n",
    "    # Plot elevation profile.\n",
    "    axes2.plot(np.unique(mgi.node_y), z_row_mean, ['darkgray', 'k'][i],\n",
    "              label=titles[i])\n",
    "    axes2.set_xlabel('y coordinate (m)')\n",
    "    axes2.set_ylabel('mean elevation (m)')\n",
    "\n",
    "plt.figure(fig1.number)\n",
    "plt.tight_layout()\n",
    "    \n",
    "plt.figure(fig2.number)\n",
    "l = plt.legend()"
   ]
  },
  {
   "cell_type": "markdown",
   "metadata": {},
   "source": [
    "## 3. Sensitivity analysis\n",
    "\n",
    "Above, we looked at a single model trial. Now we turn to analzing the results of many trials.\n",
    "\n",
    "Let's set up the problem dictionary following the approach at the top of this notebook. Note that the bounds of the variable, `base_level_fall` is also an exponent."
   ]
  },
  {
   "cell_type": "code",
   "execution_count": null,
   "metadata": {},
   "outputs": [],
   "source": [
    "problem = {\n",
    "    'num_vars': 4,\n",
    "    'names': ['U_exp', 'K_exp', 'D_exp', 'base_level_fall'],\n",
    "    'bounds': [[-5, -3],\n",
    "               [-7, -5],\n",
    "               [-3, -1],\n",
    "               [-1,  2]]}\n",
    "\n",
    "pprint(problem)"
   ]
  },
  {
   "cell_type": "markdown",
   "metadata": {},
   "source": [
    "Model trials were previously completed. Load the trial responses."
   ]
  },
  {
   "cell_type": "code",
   "execution_count": null,
   "metadata": {},
   "outputs": [],
   "source": [
    "summary_df = read_csv('data_summary.csv', index_col=0)\n",
    "print(summary_df)"
   ]
  },
  {
   "cell_type": "markdown",
   "metadata": {},
   "source": [
    "### Call `SALib.analyze.sobol.analyze` for each response."
   ]
  },
  {
   "cell_type": "code",
   "execution_count": null,
   "metadata": {},
   "outputs": [],
   "source": [
    "# divide_migration_distance  relief_at_steady_state  time_back_to_steady_state\n",
    "response = 'divide_migration_distance'\n",
    "\n",
    "Y = summary_df[response].values\n",
    "Si = sobol.analyze(problem, Y)\n",
    "\n",
    "pf.plot_sobol_indices(Si, problem, title=response, factor_names=['U', 'K', 'D', 'base level fall'])"
   ]
  },
  {
   "cell_type": "markdown",
   "metadata": {},
   "source": [
    "## 4. Plot data\n",
    "\n",
    "Compare model input parameters to responses in the plots created below."
   ]
  },
  {
   "cell_type": "code",
   "execution_count": null,
   "metadata": {},
   "outputs": [],
   "source": [
    "# Load data.\n",
    "U = 10**summary_df.U_exp\n",
    "K = 10**summary_df.K_exp\n",
    "D = 10**summary_df.D_exp\n",
    "blf = 10**summary_df.base_level_fall\n",
    "R = summary_df.relief_at_steady_state\n",
    "dmd = summary_df.divide_migration_distance\n",
    "tss = summary_df.time_back_to_steady_state\n",
    "\n",
    "# Plot.\n",
    "x = U\n",
    "y = R\n",
    "color = K\n",
    "\n",
    "fig, ax = plt.subplots(nrows=1, ncols=1)\n",
    "ax.set_xscale('log')\n",
    "ax.set_yscale('log')\n",
    "s = ax.scatter(x, y, c=color, s=3, cmap='plasma',\n",
    "               norm=LogNorm(vmin=color.min(), vmax=color.max()))\n",
    "\n",
    "ax.set_xlabel('$U$ (m yr$^{-1}$)')\n",
    "ax.set_ylabel('topographic relief (m)')\n",
    "\n",
    "cb = plt.colorbar(s)\n",
    "cb.set_label('$K$ (yr$^{-1}$)')"
   ]
  },
  {
   "cell_type": "code",
   "execution_count": null,
   "metadata": {},
   "outputs": [],
   "source": [
    "x = blf / R\n",
    "y = dmd\n",
    "color = K\n",
    "\n",
    "fig, ax = plt.subplots(nrows=1, ncols=1)\n",
    "ax.set_xscale('log')\n",
    "\n",
    "s = ax.scatter(x, y, c=color, s=3, cmap='plasma',\n",
    "               norm=LogNorm(vmin=color.min(), vmax=color.max()))\n",
    "\n",
    "ax.set_xlabel('base level fall (m) / relief (m)')\n",
    "ax.set_ylabel('divide migration distance (m)')\n",
    "\n",
    "cb = plt.colorbar(s)\n",
    "cb.set_label('$K$ (yr$^{-1}$)')"
   ]
  },
  {
   "cell_type": "code",
   "execution_count": null,
   "metadata": {},
   "outputs": [],
   "source": [
    "x = U / K\n",
    "y = tss * 0.0001\n",
    "color = blf / R\n",
    "\n",
    "fig, ax = plt.subplots(nrows=1, ncols=1)\n",
    "ax.set_xscale('log')\n",
    "s = ax.scatter(x, y, c=color, s=3, cmap='plasma',\n",
    "               norm=LogNorm(vmin=color.min(), vmax=color.max()))\n",
    "\n",
    "ax.set_xlabel('U (m yr$^{-1}$) / K (yr$^{-1}$)')\n",
    "ax.set_ylabel('time back to steady state (kyr)')\n",
    "\n",
    "cb = plt.colorbar(s)\n",
    "cb.set_label('base level fall (m) / relief (m)')"
   ]
  }
 ],
 "metadata": {
  "kernelspec": {
   "display_name": "Python 3",
   "language": "python",
   "name": "python3"
  },
  "language_info": {
   "codemirror_mode": {
    "name": "ipython",
    "version": 3
   },
   "file_extension": ".py",
   "mimetype": "text/x-python",
   "name": "python",
   "nbconvert_exporter": "python",
   "pygments_lexer": "ipython3",
   "version": "3.7.3"
  }
 },
 "nbformat": 4,
 "nbformat_minor": 2
}
