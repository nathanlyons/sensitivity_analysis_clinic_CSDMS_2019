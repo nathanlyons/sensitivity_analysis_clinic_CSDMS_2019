{
 "cells": [
  {
   "cell_type": "markdown",
   "metadata": {},
   "source": [
    "# Introduction to the Sobol method\n",
    "\n",
    "Interactive examples for the Model Sensitivity Analysis with SALib clinic at CSMDS Annual Meeting 2019.\n",
    "\n",
    "**Goal of this notebook:** Demonstrate the Sobol method using the Ishigami function.\n",
    "\n",
    "### How to use this notebook\n",
    "\n",
    "This notebook is made of:\n",
    "* text cells, including the cell you are reading now, and\n",
    "* code cells where computations are run and figures are created.\n",
    "\n",
    "The notebook cells are generally designed to be run top to bottom. The order in which you run the cells matters.\n",
    "\n",
    "**To run a cell:**\n",
    "1. Place your cursor in a cell.\n",
    "2. Hold down `shift` and then also press `enter`.\n",
    "\n",
    "Code cells have the following characters to their left:\n",
    "* `In [ ]:` is a cell yet to be run.\n",
    "* `In [*]:` is a cell that is running.\n",
    "* `In [n]:` where `n` is an integer, is a cell that has run. The number indicates the sequence the cell was run, i.e. the first cell run is `n`=1."
   ]
  },
  {
   "cell_type": "markdown",
   "metadata": {},
   "source": [
    "## 1. Prepare the environment\n",
    "Run the code cell below by selecting it, then hold down `shift` and then also press `enter`."
   ]
  },
  {
   "cell_type": "code",
   "execution_count": null,
   "metadata": {},
   "outputs": [],
   "source": [
    "import math\n",
    "from pprint import pprint\n",
    "\n",
    "import matplotlib.pyplot as plt\n",
    "from mpl_toolkits.mplot3d import Axes3D\n",
    "import numpy as np\n",
    "from SALib.analyze import sobol\n",
    "from SALib.sample import saltelli\n",
    "\n",
    "import plot_funcs as pf"
   ]
  },
  {
   "cell_type": "markdown",
   "metadata": {},
   "source": [
    "Run the next 2 cells as well to make it easier to see and work with plots later in this notebook."
   ]
  },
  {
   "cell_type": "code",
   "execution_count": null,
   "metadata": {},
   "outputs": [],
   "source": [
    "%matplotlib notebook"
   ]
  },
  {
   "cell_type": "code",
   "execution_count": null,
   "metadata": {},
   "outputs": [],
   "source": [
    "%%javascript\n",
    "IPython.OutputArea.prototype._should_scroll = function(lines) {\n",
    "    return false;\n",
    "}"
   ]
  },
  {
   "cell_type": "markdown",
   "metadata": {},
   "source": [
    "## 2. Ishigami function\n",
    "\n",
    "\n",
    "The Ishigami function (ref 1):\n",
    "\n",
    "\\begin{equation*}\n",
    "f(\\mathbf{x})   = \\sin(x_1) + a \\sin^2(x_2) + bx_3^4 \\sin(x_1)\n",
    "\\end{equation*}\n",
    "\n",
    "* Often used example for uncertainty and sensitivity analysis methods.\n",
    "* Exhibits strong nonlinearity and nonmonotonicity.\n",
    "* Ref 2 uses $a$ = 7 and $b$ = 0.05.\n",
    "\n",
    "Refs\n",
    "1. Ishigami T, Homma  T, 1990. An importance quantification technique in uncertainty analysis for computer models. First International Symposium on Uncertainty Modeling and Analysis, Proceedings. pp. 398-403. IEEE.\n",
    "2. Sobol IM, Levitan YL, 1999. On the use of variance reducing multipliers in Monte Carlo computations of a global sensitivity index. Computer Physics Communications, 117, 52-61."
   ]
  },
  {
   "cell_type": "markdown",
   "metadata": {},
   "source": [
    "## 3. Prepare the analysis"
   ]
  },
  {
   "cell_type": "code",
   "execution_count": null,
   "metadata": {},
   "outputs": [],
   "source": [
    "problem = {\n",
    "    'num_vars': 3,\n",
    "    'names': ['x1', 'x2', 'x3'],\n",
    "    'bounds': 3 * [[-math.pi, math.pi]]\n",
    "}\n",
    "\n",
    "pprint(problem)"
   ]
  },
  {
   "cell_type": "markdown",
   "metadata": {},
   "source": [
    "### Generate factor sets\n",
    "\n",
    "$N(2D + 2)$, where $N$ is the number of samples and $D$ is the number of parameters."
   ]
  },
  {
   "cell_type": "code",
   "execution_count": null,
   "metadata": {},
   "outputs": [],
   "source": [
    "number_of_samples = 3000\n",
    "\n",
    "factor_sets = saltelli.sample(problem, number_of_samples)\n",
    "\n",
    "print('number of factor sets:', len(factor_sets))\n",
    "print('N(2D + 2):', number_of_samples * (2 * problem['num_vars'] + 2))"
   ]
  },
  {
   "cell_type": "markdown",
   "metadata": {},
   "source": [
    "### Plot parameter space"
   ]
  },
  {
   "cell_type": "code",
   "execution_count": null,
   "metadata": {},
   "outputs": [],
   "source": [
    "xt = np.array(factor_sets).transpose()\n",
    "\n",
    "fig = plt.figure()\n",
    "ax = fig.add_subplot(111, projection='3d')\n",
    "ax.scatter(xt[0], xt[1], xt[2], s=10)\n",
    "\n",
    "ticks = [-np.pi, 0, np.pi]\n",
    "ax.set_xticks(ticks)\n",
    "ax.set_yticks(ticks)\n",
    "ax.set_zticks(ticks)\n",
    "\n",
    "labels = ['-$\\pi$', 0, '$\\pi$']\n",
    "ax.set_xticklabels(labels)\n",
    "ax.set_yticklabels(labels)\n",
    "ax.set_zticklabels(labels)\n",
    "\n",
    "ax.set_xlabel('$x_1$', color='r', labelpad=10)\n",
    "ax.set_ylabel('$x_2$', color='r', labelpad=10)\n",
    "ax.set_zlabel('$x_3$', color='r', labelpad=10)"
   ]
  },
  {
   "cell_type": "markdown",
   "metadata": {},
   "source": [
    "## 4. Run the model\n",
    "\n",
    "We will see how the Sobol method works by running the Ishigami function/model with part or all of the terms. (Use the same `problem` dictionary.)\n",
    "\n",
    "**1 term**: $f(\\mathbf{x}) = \\sin(x_1)$\n",
    "\n",
    "**2 terms**: $f(\\mathbf{x}) = \\sin(x_1) + a \\sin^2(x_2)$\n",
    "\n",
    "**3 terms**: $f(\\mathbf{x}) = \\sin(x_1) + a \\sin^2(x_2) + bx_3^4 \\sin(x_1)$"
   ]
  },
  {
   "cell_type": "code",
   "execution_count": null,
   "metadata": {},
   "outputs": [],
   "source": [
    "term_count = 3"
   ]
  },
  {
   "cell_type": "code",
   "execution_count": null,
   "metadata": {},
   "outputs": [],
   "source": [
    "# Create an array to store the response of each trial.\n",
    "n_trials = factor_sets.shape[0]\n",
    "Y = np.zeros(n_trials)\n",
    "\n",
    "# Set constants.\n",
    "A = 7\n",
    "B = 0.05\n",
    "\n",
    "# Iterate through factor sets.\n",
    "for i, X in enumerate(factor_sets):\n",
    "    if term_count == 1:\n",
    "        Y[i] = math.sin(X[0])\n",
    "    elif term_count == 2:\n",
    "        Y[i] = math.sin(X[0]) + A * math.pow(math.sin(X[1]), 2)\n",
    "    else:\n",
    "        Y[i] = math.sin(X[0]) + A * math.pow(math.sin(X[1]), 2) + B * math.pow(X[2], 4) * math.sin(X[0])"
   ]
  },
  {
   "cell_type": "code",
   "execution_count": null,
   "metadata": {},
   "outputs": [],
   "source": [
    "Si = sobol.analyze(problem, Y)\n",
    "\n",
    "pf.plot_sobol_indices(Si, problem)"
   ]
  },
  {
   "cell_type": "code",
   "execution_count": null,
   "metadata": {},
   "outputs": [],
   "source": [
    "pprint(Si.to_df())"
   ]
  }
 ],
 "metadata": {
  "kernelspec": {
   "display_name": "Python 3",
   "language": "python",
   "name": "python3"
  },
  "language_info": {
   "codemirror_mode": {
    "name": "ipython",
    "version": 3
   },
   "file_extension": ".py",
   "mimetype": "text/x-python",
   "name": "python",
   "nbconvert_exporter": "python",
   "pygments_lexer": "ipython3",
   "version": "3.7.3"
  }
 },
 "nbformat": 4,
 "nbformat_minor": 2
}
